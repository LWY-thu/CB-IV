{
 "cells": [
  {
   "cell_type": "code",
   "execution_count": null,
   "metadata": {},
   "outputs": [],
   "source": [
    "import pandas as pd\n",
    "from sys import path\n",
    "path.append(r\"../\")\n",
    "\n",
    "# 从CSV文件加载数据\n",
    "data = pd.read_csv('experiment_results.csv')\n",
    "\n",
    "# 计算每一列的均值\n",
    "mean_values = data.mean()\n",
    "\n",
    "# 计算每一列的方差\n",
    "variance_values = data.var()\n",
    "\n",
    "# 打印每一列的均值和方差\n",
    "for column in data.columns:\n",
    "    print(f'Column: {column}')\n",
    "    print(f'Mean: {mean_values[column]}')\n",
    "    print(f'Variance: {variance_values[column]}')\n",
    "    print('---')"
   ]
  }
 ],
 "metadata": {
  "language_info": {
   "name": "python"
  }
 },
 "nbformat": 4,
 "nbformat_minor": 2
}
